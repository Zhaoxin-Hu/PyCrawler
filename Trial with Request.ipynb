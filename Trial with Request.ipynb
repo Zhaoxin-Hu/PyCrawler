{
 "cells": [
  {
   "cell_type": "code",
   "execution_count": 26,
   "metadata": {
    "collapsed": true
   },
   "outputs": [],
   "source": [
    "import requests\n",
    "from bs4 import BeautifulSoup"
   ]
  },
  {
   "cell_type": "markdown",
   "metadata": {},
   "source": [
    "AIMS"
   ]
  },
  {
   "cell_type": "code",
   "execution_count": 21,
   "metadata": {
    "collapsed": true
   },
   "outputs": [],
   "source": [
    "login_url = 'https://www.cityu.edu.hk/cityu/qlink/aims.htm'\n",
    "resp_url = 'https://banweb.cityu.edu.hk/pls/PROD/twbkwbis.P_GenMenu?name=bmenu.P_MainMnu'\n",
    "headers = {\n",
    "    'User-Agent': 'Mozilla/5.0 (Windows NT 6.1; Win64; x64) AppleWebKit/537.36 (KHTML, like Gecko) Chrome/66.0.3359.139 Safari/537.36',\n",
    "    # 'From': 'youremail@domain.com'  # This is another valid field\n",
    "}\n",
    "\"\"\"cookies = {\n",
    "    '_ga':'GA1.3.1904957795.1522373760',\n",
    "    '__utma':'15447972.1904957795.1522373760.1524190413.1524190413.1',\n",
    "    '__utmz':'15447972.1524190413.1.1.utmcsr=(direct)|utmccn=(direct)|utmcmd=(none)',\n",
    "    '__utmc':'268875363',\n",
    "    'ezproxy':'U2quznny25XeGsq',\n",
    "    '_gid':'GA1.3.1088078586.1527045476',\n",
    "    'log_session_id':'58d95da50a176fdd1d50fb18c26121ba',\n",
    "    'canvas_session':'tKQBNwhwLOv9ceZ_TtNc6w+_eilLfLPtwbmQfbzuqSTVKo272438FsVbICFDJfG8Es5Bzk69w-m979cgGb6O8YVWngvT6cPzKNc_wEJpaxKasmNY_TBbwsyOYSx_kzWtxMTPhysFbZRd4YVr93vW2kgL_gr7_Sv2fJX34t-9n9INqWj5m5pHWtySj4FX8M4ktbddX0rNfwK2Ow2-bL-tEIMTDwdX4V5II3mLAvr_Xmb73d3_2irLISgiVOCraoaFVyXH83snqjmx6MkEfnnUfm1nAeaIxONJJ3VlViwfiJUC7lwkWb6t3wyxUijanA3WcK2yKUVo-P1l6SmkidoWjjGOiH99cX1p9Nj1v78hlXq3WHvf4mxaKgySVty0ZdK8vPsR61tK0lGfAmARDq6DG5JCwoLT44zOLACSbmpoWsA_pk3eKpK61vCh8OYk4oW_EwQ9XHHB1140EbGZhBhcT8lUDtvN4EiT1n1Mr9fmfRIOUSDnP9-OpbmNVch-jbHXmfKpeYtUMT9K58xnhJxWxtZfvoqVy9XeitBtYgXqaK_nZWebiKy0OqHRC-ecQBYAJD9e0nE0w11LA-EKXV-YlpUgeurkn5B50bAvQtH6CE5WdrpwfY4V_x1SlOQ8HnqY2NZ1uxYWjbMmRoGZyY2f1UUjxsRxty3zBFPwCuGc7jB5bKnco0dq481Rw2S4t0S59jinyNlC2N6857M_bLWljwxfYq6RhzXUOeJG3y1MRmpMWPlFmLOmI7SoU3Fp-QqQNHFTLZWIhnqF_-c7BagN0nSt0dqRYVNnqorL9M98ADdMIVqq5RWEk669VN5da72HkY.hM7yaKC8R_WXA91gZAwRsdCfAV4.WwUeLQ',\n",
    "    '__utma':'268875363.1904957795.1522373760.1526262880.1527062185.47',\n",
    "    '__utmz':'268875363.1527062185.47.35.utmcsr=idp1.cityu.edu.hk|utmccn=(referral)|utmcmd=referral|utmcct=/idp/profile/SAML2/Redirect/SSO',\n",
    "    '__utmt':'1',\n",
    "    '__utmb':'268875363.2.9.1527062185',\n",
    "    '_gat':'1',\n",
    "    '_csrf_token':'FJzB7zzfIGHSELomLTLWg%2BraULJjmTJIuHhSLdwYwpVT%2FvmBeb4TK4JFjVxFaID3gp5k3VKoCiWKAiRnvVe78A%3D%3D',\n",
    "}\n",
    "\"\"\"\n",
    "login_info = {\n",
    "    'User21131006144002': 'zhaoxinhu3',\n",
    "    'p_password': 'GaoKao1101150666'\n",
    "}"
   ]
  },
  {
   "cell_type": "code",
   "execution_count": 22,
   "metadata": {},
   "outputs": [
    {
     "ename": "SSLError",
     "evalue": "HTTPSConnectionPool(host='banweb.cityu.edu.hk', port=443): Max retries exceeded with url: /pls/PROD/twbkwbis.P_GenMenu?name=bmenu.P_MainMnu (Caused by SSLError(SSLError(\"bad handshake: Error([('SSL routines', 'SSL23_GET_SERVER_HELLO', 'sslv3 alert handshake failure')],)\",),))",
     "output_type": "error",
     "traceback": [
      "\u001b[1;31m---------------------------------------------------------------------------\u001b[0m",
      "\u001b[1;31mError\u001b[0m                                     Traceback (most recent call last)",
      "\u001b[1;32m~\\AppData\\Local\\conda\\conda\\envs\\tensorflow\\lib\\site-packages\\urllib3\\contrib\\pyopenssl.py\u001b[0m in \u001b[0;36mwrap_socket\u001b[1;34m(self, sock, server_side, do_handshake_on_connect, suppress_ragged_eofs, server_hostname)\u001b[0m\n\u001b[0;32m    440\u001b[0m             \u001b[1;32mtry\u001b[0m\u001b[1;33m:\u001b[0m\u001b[1;33m\u001b[0m\u001b[0m\n\u001b[1;32m--> 441\u001b[1;33m                 \u001b[0mcnx\u001b[0m\u001b[1;33m.\u001b[0m\u001b[0mdo_handshake\u001b[0m\u001b[1;33m(\u001b[0m\u001b[1;33m)\u001b[0m\u001b[1;33m\u001b[0m\u001b[0m\n\u001b[0m\u001b[0;32m    442\u001b[0m             \u001b[1;32mexcept\u001b[0m \u001b[0mOpenSSL\u001b[0m\u001b[1;33m.\u001b[0m\u001b[0mSSL\u001b[0m\u001b[1;33m.\u001b[0m\u001b[0mWantReadError\u001b[0m\u001b[1;33m:\u001b[0m\u001b[1;33m\u001b[0m\u001b[0m\n",
      "\u001b[1;32m~\\AppData\\Local\\conda\\conda\\envs\\tensorflow\\lib\\site-packages\\OpenSSL\\SSL.py\u001b[0m in \u001b[0;36mdo_handshake\u001b[1;34m(self)\u001b[0m\n\u001b[0;32m   1906\u001b[0m         \u001b[0mresult\u001b[0m \u001b[1;33m=\u001b[0m \u001b[0m_lib\u001b[0m\u001b[1;33m.\u001b[0m\u001b[0mSSL_do_handshake\u001b[0m\u001b[1;33m(\u001b[0m\u001b[0mself\u001b[0m\u001b[1;33m.\u001b[0m\u001b[0m_ssl\u001b[0m\u001b[1;33m)\u001b[0m\u001b[1;33m\u001b[0m\u001b[0m\n\u001b[1;32m-> 1907\u001b[1;33m         \u001b[0mself\u001b[0m\u001b[1;33m.\u001b[0m\u001b[0m_raise_ssl_error\u001b[0m\u001b[1;33m(\u001b[0m\u001b[0mself\u001b[0m\u001b[1;33m.\u001b[0m\u001b[0m_ssl\u001b[0m\u001b[1;33m,\u001b[0m \u001b[0mresult\u001b[0m\u001b[1;33m)\u001b[0m\u001b[1;33m\u001b[0m\u001b[0m\n\u001b[0m\u001b[0;32m   1908\u001b[0m \u001b[1;33m\u001b[0m\u001b[0m\n",
      "\u001b[1;32m~\\AppData\\Local\\conda\\conda\\envs\\tensorflow\\lib\\site-packages\\OpenSSL\\SSL.py\u001b[0m in \u001b[0;36m_raise_ssl_error\u001b[1;34m(self, ssl, result)\u001b[0m\n\u001b[0;32m   1638\u001b[0m         \u001b[1;32melse\u001b[0m\u001b[1;33m:\u001b[0m\u001b[1;33m\u001b[0m\u001b[0m\n\u001b[1;32m-> 1639\u001b[1;33m             \u001b[0m_raise_current_error\u001b[0m\u001b[1;33m(\u001b[0m\u001b[1;33m)\u001b[0m\u001b[1;33m\u001b[0m\u001b[0m\n\u001b[0m\u001b[0;32m   1640\u001b[0m \u001b[1;33m\u001b[0m\u001b[0m\n",
      "\u001b[1;32m~\\AppData\\Local\\conda\\conda\\envs\\tensorflow\\lib\\site-packages\\OpenSSL\\_util.py\u001b[0m in \u001b[0;36mexception_from_error_queue\u001b[1;34m(exception_type)\u001b[0m\n\u001b[0;32m     53\u001b[0m \u001b[1;33m\u001b[0m\u001b[0m\n\u001b[1;32m---> 54\u001b[1;33m     \u001b[1;32mraise\u001b[0m \u001b[0mexception_type\u001b[0m\u001b[1;33m(\u001b[0m\u001b[0merrors\u001b[0m\u001b[1;33m)\u001b[0m\u001b[1;33m\u001b[0m\u001b[0m\n\u001b[0m\u001b[0;32m     55\u001b[0m \u001b[1;33m\u001b[0m\u001b[0m\n",
      "\u001b[1;31mError\u001b[0m: [('SSL routines', 'SSL23_GET_SERVER_HELLO', 'sslv3 alert handshake failure')]",
      "\nDuring handling of the above exception, another exception occurred:\n",
      "\u001b[1;31mSSLError\u001b[0m                                  Traceback (most recent call last)",
      "\u001b[1;32m~\\AppData\\Local\\conda\\conda\\envs\\tensorflow\\lib\\site-packages\\urllib3\\connectionpool.py\u001b[0m in \u001b[0;36murlopen\u001b[1;34m(self, method, url, body, headers, retries, redirect, assert_same_host, timeout, pool_timeout, release_conn, chunked, body_pos, **response_kw)\u001b[0m\n\u001b[0;32m    600\u001b[0m                                                   \u001b[0mbody\u001b[0m\u001b[1;33m=\u001b[0m\u001b[0mbody\u001b[0m\u001b[1;33m,\u001b[0m \u001b[0mheaders\u001b[0m\u001b[1;33m=\u001b[0m\u001b[0mheaders\u001b[0m\u001b[1;33m,\u001b[0m\u001b[1;33m\u001b[0m\u001b[0m\n\u001b[1;32m--> 601\u001b[1;33m                                                   chunked=chunked)\n\u001b[0m\u001b[0;32m    602\u001b[0m \u001b[1;33m\u001b[0m\u001b[0m\n",
      "\u001b[1;32m~\\AppData\\Local\\conda\\conda\\envs\\tensorflow\\lib\\site-packages\\urllib3\\connectionpool.py\u001b[0m in \u001b[0;36m_make_request\u001b[1;34m(self, conn, method, url, timeout, chunked, **httplib_request_kw)\u001b[0m\n\u001b[0;32m    345\u001b[0m         \u001b[1;32mtry\u001b[0m\u001b[1;33m:\u001b[0m\u001b[1;33m\u001b[0m\u001b[0m\n\u001b[1;32m--> 346\u001b[1;33m             \u001b[0mself\u001b[0m\u001b[1;33m.\u001b[0m\u001b[0m_validate_conn\u001b[0m\u001b[1;33m(\u001b[0m\u001b[0mconn\u001b[0m\u001b[1;33m)\u001b[0m\u001b[1;33m\u001b[0m\u001b[0m\n\u001b[0m\u001b[0;32m    347\u001b[0m         \u001b[1;32mexcept\u001b[0m \u001b[1;33m(\u001b[0m\u001b[0mSocketTimeout\u001b[0m\u001b[1;33m,\u001b[0m \u001b[0mBaseSSLError\u001b[0m\u001b[1;33m)\u001b[0m \u001b[1;32mas\u001b[0m \u001b[0me\u001b[0m\u001b[1;33m:\u001b[0m\u001b[1;33m\u001b[0m\u001b[0m\n",
      "\u001b[1;32m~\\AppData\\Local\\conda\\conda\\envs\\tensorflow\\lib\\site-packages\\urllib3\\connectionpool.py\u001b[0m in \u001b[0;36m_validate_conn\u001b[1;34m(self, conn)\u001b[0m\n\u001b[0;32m    849\u001b[0m         \u001b[1;32mif\u001b[0m \u001b[1;32mnot\u001b[0m \u001b[0mgetattr\u001b[0m\u001b[1;33m(\u001b[0m\u001b[0mconn\u001b[0m\u001b[1;33m,\u001b[0m \u001b[1;34m'sock'\u001b[0m\u001b[1;33m,\u001b[0m \u001b[1;32mNone\u001b[0m\u001b[1;33m)\u001b[0m\u001b[1;33m:\u001b[0m  \u001b[1;31m# AppEngine might not have  `.sock`\u001b[0m\u001b[1;33m\u001b[0m\u001b[0m\n\u001b[1;32m--> 850\u001b[1;33m             \u001b[0mconn\u001b[0m\u001b[1;33m.\u001b[0m\u001b[0mconnect\u001b[0m\u001b[1;33m(\u001b[0m\u001b[1;33m)\u001b[0m\u001b[1;33m\u001b[0m\u001b[0m\n\u001b[0m\u001b[0;32m    851\u001b[0m \u001b[1;33m\u001b[0m\u001b[0m\n",
      "\u001b[1;32m~\\AppData\\Local\\conda\\conda\\envs\\tensorflow\\lib\\site-packages\\urllib3\\connection.py\u001b[0m in \u001b[0;36mconnect\u001b[1;34m(self)\u001b[0m\n\u001b[0;32m    325\u001b[0m             \u001b[0mserver_hostname\u001b[0m\u001b[1;33m=\u001b[0m\u001b[0mhostname\u001b[0m\u001b[1;33m,\u001b[0m\u001b[1;33m\u001b[0m\u001b[0m\n\u001b[1;32m--> 326\u001b[1;33m             ssl_context=context)\n\u001b[0m\u001b[0;32m    327\u001b[0m \u001b[1;33m\u001b[0m\u001b[0m\n",
      "\u001b[1;32m~\\AppData\\Local\\conda\\conda\\envs\\tensorflow\\lib\\site-packages\\urllib3\\util\\ssl_.py\u001b[0m in \u001b[0;36mssl_wrap_socket\u001b[1;34m(sock, keyfile, certfile, cert_reqs, ca_certs, server_hostname, ssl_version, ciphers, ssl_context, ca_cert_dir)\u001b[0m\n\u001b[0;32m    328\u001b[0m     \u001b[1;32mif\u001b[0m \u001b[0mHAS_SNI\u001b[0m\u001b[1;33m:\u001b[0m  \u001b[1;31m# Platform-specific: OpenSSL with enabled SNI\u001b[0m\u001b[1;33m\u001b[0m\u001b[0m\n\u001b[1;32m--> 329\u001b[1;33m         \u001b[1;32mreturn\u001b[0m \u001b[0mcontext\u001b[0m\u001b[1;33m.\u001b[0m\u001b[0mwrap_socket\u001b[0m\u001b[1;33m(\u001b[0m\u001b[0msock\u001b[0m\u001b[1;33m,\u001b[0m \u001b[0mserver_hostname\u001b[0m\u001b[1;33m=\u001b[0m\u001b[0mserver_hostname\u001b[0m\u001b[1;33m)\u001b[0m\u001b[1;33m\u001b[0m\u001b[0m\n\u001b[0m\u001b[0;32m    330\u001b[0m \u001b[1;33m\u001b[0m\u001b[0m\n",
      "\u001b[1;32m~\\AppData\\Local\\conda\\conda\\envs\\tensorflow\\lib\\site-packages\\urllib3\\contrib\\pyopenssl.py\u001b[0m in \u001b[0;36mwrap_socket\u001b[1;34m(self, sock, server_side, do_handshake_on_connect, suppress_ragged_eofs, server_hostname)\u001b[0m\n\u001b[0;32m    447\u001b[0m             \u001b[1;32mexcept\u001b[0m \u001b[0mOpenSSL\u001b[0m\u001b[1;33m.\u001b[0m\u001b[0mSSL\u001b[0m\u001b[1;33m.\u001b[0m\u001b[0mError\u001b[0m \u001b[1;32mas\u001b[0m \u001b[0me\u001b[0m\u001b[1;33m:\u001b[0m\u001b[1;33m\u001b[0m\u001b[0m\n\u001b[1;32m--> 448\u001b[1;33m                 \u001b[1;32mraise\u001b[0m \u001b[0mssl\u001b[0m\u001b[1;33m.\u001b[0m\u001b[0mSSLError\u001b[0m\u001b[1;33m(\u001b[0m\u001b[1;34m'bad handshake: %r'\u001b[0m \u001b[1;33m%\u001b[0m \u001b[0me\u001b[0m\u001b[1;33m)\u001b[0m\u001b[1;33m\u001b[0m\u001b[0m\n\u001b[0m\u001b[0;32m    449\u001b[0m             \u001b[1;32mbreak\u001b[0m\u001b[1;33m\u001b[0m\u001b[0m\n",
      "\u001b[1;31mSSLError\u001b[0m: (\"bad handshake: Error([('SSL routines', 'SSL23_GET_SERVER_HELLO', 'sslv3 alert handshake failure')],)\",)",
      "\nDuring handling of the above exception, another exception occurred:\n",
      "\u001b[1;31mMaxRetryError\u001b[0m                             Traceback (most recent call last)",
      "\u001b[1;32m~\\AppData\\Local\\conda\\conda\\envs\\tensorflow\\lib\\site-packages\\requests\\adapters.py\u001b[0m in \u001b[0;36msend\u001b[1;34m(self, request, stream, timeout, verify, cert, proxies)\u001b[0m\n\u001b[0;32m    439\u001b[0m                     \u001b[0mretries\u001b[0m\u001b[1;33m=\u001b[0m\u001b[0mself\u001b[0m\u001b[1;33m.\u001b[0m\u001b[0mmax_retries\u001b[0m\u001b[1;33m,\u001b[0m\u001b[1;33m\u001b[0m\u001b[0m\n\u001b[1;32m--> 440\u001b[1;33m                     \u001b[0mtimeout\u001b[0m\u001b[1;33m=\u001b[0m\u001b[0mtimeout\u001b[0m\u001b[1;33m\u001b[0m\u001b[0m\n\u001b[0m\u001b[0;32m    441\u001b[0m                 )\n",
      "\u001b[1;32m~\\AppData\\Local\\conda\\conda\\envs\\tensorflow\\lib\\site-packages\\urllib3\\connectionpool.py\u001b[0m in \u001b[0;36murlopen\u001b[1;34m(self, method, url, body, headers, retries, redirect, assert_same_host, timeout, pool_timeout, release_conn, chunked, body_pos, **response_kw)\u001b[0m\n\u001b[0;32m    638\u001b[0m             retries = retries.increment(method, url, error=e, _pool=self,\n\u001b[1;32m--> 639\u001b[1;33m                                         _stacktrace=sys.exc_info()[2])\n\u001b[0m\u001b[0;32m    640\u001b[0m             \u001b[0mretries\u001b[0m\u001b[1;33m.\u001b[0m\u001b[0msleep\u001b[0m\u001b[1;33m(\u001b[0m\u001b[1;33m)\u001b[0m\u001b[1;33m\u001b[0m\u001b[0m\n",
      "\u001b[1;32m~\\AppData\\Local\\conda\\conda\\envs\\tensorflow\\lib\\site-packages\\urllib3\\util\\retry.py\u001b[0m in \u001b[0;36mincrement\u001b[1;34m(self, method, url, response, error, _pool, _stacktrace)\u001b[0m\n\u001b[0;32m    387\u001b[0m         \u001b[1;32mif\u001b[0m \u001b[0mnew_retry\u001b[0m\u001b[1;33m.\u001b[0m\u001b[0mis_exhausted\u001b[0m\u001b[1;33m(\u001b[0m\u001b[1;33m)\u001b[0m\u001b[1;33m:\u001b[0m\u001b[1;33m\u001b[0m\u001b[0m\n\u001b[1;32m--> 388\u001b[1;33m             \u001b[1;32mraise\u001b[0m \u001b[0mMaxRetryError\u001b[0m\u001b[1;33m(\u001b[0m\u001b[0m_pool\u001b[0m\u001b[1;33m,\u001b[0m \u001b[0murl\u001b[0m\u001b[1;33m,\u001b[0m \u001b[0merror\u001b[0m \u001b[1;32mor\u001b[0m \u001b[0mResponseError\u001b[0m\u001b[1;33m(\u001b[0m\u001b[0mcause\u001b[0m\u001b[1;33m)\u001b[0m\u001b[1;33m)\u001b[0m\u001b[1;33m\u001b[0m\u001b[0m\n\u001b[0m\u001b[0;32m    389\u001b[0m \u001b[1;33m\u001b[0m\u001b[0m\n",
      "\u001b[1;31mMaxRetryError\u001b[0m: HTTPSConnectionPool(host='banweb.cityu.edu.hk', port=443): Max retries exceeded with url: /pls/PROD/twbkwbis.P_GenMenu?name=bmenu.P_MainMnu (Caused by SSLError(SSLError(\"bad handshake: Error([('SSL routines', 'SSL23_GET_SERVER_HELLO', 'sslv3 alert handshake failure')],)\",),))",
      "\nDuring handling of the above exception, another exception occurred:\n",
      "\u001b[1;31mSSLError\u001b[0m                                  Traceback (most recent call last)",
      "\u001b[1;32m<ipython-input-22-3b25f5929bc1>\u001b[0m in \u001b[0;36m<module>\u001b[1;34m()\u001b[0m\n\u001b[0;32m      1\u001b[0m \u001b[1;32mwith\u001b[0m \u001b[0mSession\u001b[0m\u001b[1;33m(\u001b[0m\u001b[1;33m)\u001b[0m \u001b[1;32mas\u001b[0m \u001b[0msession\u001b[0m\u001b[1;33m:\u001b[0m\u001b[1;33m\u001b[0m\u001b[0m\n\u001b[0;32m      2\u001b[0m     \u001b[0mpost\u001b[0m \u001b[1;33m=\u001b[0m \u001b[0msession\u001b[0m\u001b[1;33m.\u001b[0m\u001b[0mpost\u001b[0m\u001b[1;33m(\u001b[0m\u001b[0mlogin_url\u001b[0m\u001b[1;33m,\u001b[0m \u001b[0mdata\u001b[0m\u001b[1;33m=\u001b[0m\u001b[0mlogin_info\u001b[0m\u001b[1;33m)\u001b[0m\u001b[1;33m\u001b[0m\u001b[0m\n\u001b[1;32m----> 3\u001b[1;33m     \u001b[0mr\u001b[0m \u001b[1;33m=\u001b[0m \u001b[0msession\u001b[0m\u001b[1;33m.\u001b[0m\u001b[0mget\u001b[0m\u001b[1;33m(\u001b[0m\u001b[0mresp_url\u001b[0m\u001b[1;33m)\u001b[0m\u001b[1;33m\u001b[0m\u001b[0m\n\u001b[0m\u001b[0;32m      4\u001b[0m     \u001b[0mprint\u001b[0m\u001b[1;33m(\u001b[0m\u001b[0mr\u001b[0m\u001b[1;33m.\u001b[0m\u001b[0mtext\u001b[0m\u001b[1;33m)\u001b[0m   \u001b[1;31m#or whatever else you want to do with the request data!\u001b[0m\u001b[1;33m\u001b[0m\u001b[0m\n",
      "\u001b[1;32m~\\AppData\\Local\\conda\\conda\\envs\\tensorflow\\lib\\site-packages\\requests\\sessions.py\u001b[0m in \u001b[0;36mget\u001b[1;34m(self, url, **kwargs)\u001b[0m\n\u001b[0;32m    519\u001b[0m \u001b[1;33m\u001b[0m\u001b[0m\n\u001b[0;32m    520\u001b[0m         \u001b[0mkwargs\u001b[0m\u001b[1;33m.\u001b[0m\u001b[0msetdefault\u001b[0m\u001b[1;33m(\u001b[0m\u001b[1;34m'allow_redirects'\u001b[0m\u001b[1;33m,\u001b[0m \u001b[1;32mTrue\u001b[0m\u001b[1;33m)\u001b[0m\u001b[1;33m\u001b[0m\u001b[0m\n\u001b[1;32m--> 521\u001b[1;33m         \u001b[1;32mreturn\u001b[0m \u001b[0mself\u001b[0m\u001b[1;33m.\u001b[0m\u001b[0mrequest\u001b[0m\u001b[1;33m(\u001b[0m\u001b[1;34m'GET'\u001b[0m\u001b[1;33m,\u001b[0m \u001b[0murl\u001b[0m\u001b[1;33m,\u001b[0m \u001b[1;33m**\u001b[0m\u001b[0mkwargs\u001b[0m\u001b[1;33m)\u001b[0m\u001b[1;33m\u001b[0m\u001b[0m\n\u001b[0m\u001b[0;32m    522\u001b[0m \u001b[1;33m\u001b[0m\u001b[0m\n\u001b[0;32m    523\u001b[0m     \u001b[1;32mdef\u001b[0m \u001b[0moptions\u001b[0m\u001b[1;33m(\u001b[0m\u001b[0mself\u001b[0m\u001b[1;33m,\u001b[0m \u001b[0murl\u001b[0m\u001b[1;33m,\u001b[0m \u001b[1;33m**\u001b[0m\u001b[0mkwargs\u001b[0m\u001b[1;33m)\u001b[0m\u001b[1;33m:\u001b[0m\u001b[1;33m\u001b[0m\u001b[0m\n",
      "\u001b[1;32m~\\AppData\\Local\\conda\\conda\\envs\\tensorflow\\lib\\site-packages\\requests\\sessions.py\u001b[0m in \u001b[0;36mrequest\u001b[1;34m(self, method, url, params, data, headers, cookies, files, auth, timeout, allow_redirects, proxies, hooks, stream, verify, cert, json)\u001b[0m\n\u001b[0;32m    506\u001b[0m         }\n\u001b[0;32m    507\u001b[0m         \u001b[0msend_kwargs\u001b[0m\u001b[1;33m.\u001b[0m\u001b[0mupdate\u001b[0m\u001b[1;33m(\u001b[0m\u001b[0msettings\u001b[0m\u001b[1;33m)\u001b[0m\u001b[1;33m\u001b[0m\u001b[0m\n\u001b[1;32m--> 508\u001b[1;33m         \u001b[0mresp\u001b[0m \u001b[1;33m=\u001b[0m \u001b[0mself\u001b[0m\u001b[1;33m.\u001b[0m\u001b[0msend\u001b[0m\u001b[1;33m(\u001b[0m\u001b[0mprep\u001b[0m\u001b[1;33m,\u001b[0m \u001b[1;33m**\u001b[0m\u001b[0msend_kwargs\u001b[0m\u001b[1;33m)\u001b[0m\u001b[1;33m\u001b[0m\u001b[0m\n\u001b[0m\u001b[0;32m    509\u001b[0m \u001b[1;33m\u001b[0m\u001b[0m\n\u001b[0;32m    510\u001b[0m         \u001b[1;32mreturn\u001b[0m \u001b[0mresp\u001b[0m\u001b[1;33m\u001b[0m\u001b[0m\n",
      "\u001b[1;32m~\\AppData\\Local\\conda\\conda\\envs\\tensorflow\\lib\\site-packages\\requests\\sessions.py\u001b[0m in \u001b[0;36msend\u001b[1;34m(self, request, **kwargs)\u001b[0m\n\u001b[0;32m    616\u001b[0m \u001b[1;33m\u001b[0m\u001b[0m\n\u001b[0;32m    617\u001b[0m         \u001b[1;31m# Send the request\u001b[0m\u001b[1;33m\u001b[0m\u001b[1;33m\u001b[0m\u001b[0m\n\u001b[1;32m--> 618\u001b[1;33m         \u001b[0mr\u001b[0m \u001b[1;33m=\u001b[0m \u001b[0madapter\u001b[0m\u001b[1;33m.\u001b[0m\u001b[0msend\u001b[0m\u001b[1;33m(\u001b[0m\u001b[0mrequest\u001b[0m\u001b[1;33m,\u001b[0m \u001b[1;33m**\u001b[0m\u001b[0mkwargs\u001b[0m\u001b[1;33m)\u001b[0m\u001b[1;33m\u001b[0m\u001b[0m\n\u001b[0m\u001b[0;32m    619\u001b[0m \u001b[1;33m\u001b[0m\u001b[0m\n\u001b[0;32m    620\u001b[0m         \u001b[1;31m# Total elapsed time of the request (approximately)\u001b[0m\u001b[1;33m\u001b[0m\u001b[1;33m\u001b[0m\u001b[0m\n",
      "\u001b[1;32m~\\AppData\\Local\\conda\\conda\\envs\\tensorflow\\lib\\site-packages\\requests\\adapters.py\u001b[0m in \u001b[0;36msend\u001b[1;34m(self, request, stream, timeout, verify, cert, proxies)\u001b[0m\n\u001b[0;32m    504\u001b[0m             \u001b[1;32mif\u001b[0m \u001b[0misinstance\u001b[0m\u001b[1;33m(\u001b[0m\u001b[0me\u001b[0m\u001b[1;33m.\u001b[0m\u001b[0mreason\u001b[0m\u001b[1;33m,\u001b[0m \u001b[0m_SSLError\u001b[0m\u001b[1;33m)\u001b[0m\u001b[1;33m:\u001b[0m\u001b[1;33m\u001b[0m\u001b[0m\n\u001b[0;32m    505\u001b[0m                 \u001b[1;31m# This branch is for urllib3 v1.22 and later.\u001b[0m\u001b[1;33m\u001b[0m\u001b[1;33m\u001b[0m\u001b[0m\n\u001b[1;32m--> 506\u001b[1;33m                 \u001b[1;32mraise\u001b[0m \u001b[0mSSLError\u001b[0m\u001b[1;33m(\u001b[0m\u001b[0me\u001b[0m\u001b[1;33m,\u001b[0m \u001b[0mrequest\u001b[0m\u001b[1;33m=\u001b[0m\u001b[0mrequest\u001b[0m\u001b[1;33m)\u001b[0m\u001b[1;33m\u001b[0m\u001b[0m\n\u001b[0m\u001b[0;32m    507\u001b[0m \u001b[1;33m\u001b[0m\u001b[0m\n\u001b[0;32m    508\u001b[0m             \u001b[1;32mraise\u001b[0m \u001b[0mConnectionError\u001b[0m\u001b[1;33m(\u001b[0m\u001b[0me\u001b[0m\u001b[1;33m,\u001b[0m \u001b[0mrequest\u001b[0m\u001b[1;33m=\u001b[0m\u001b[0mrequest\u001b[0m\u001b[1;33m)\u001b[0m\u001b[1;33m\u001b[0m\u001b[0m\n",
      "\u001b[1;31mSSLError\u001b[0m: HTTPSConnectionPool(host='banweb.cityu.edu.hk', port=443): Max retries exceeded with url: /pls/PROD/twbkwbis.P_GenMenu?name=bmenu.P_MainMnu (Caused by SSLError(SSLError(\"bad handshake: Error([('SSL routines', 'SSL23_GET_SERVER_HELLO', 'sslv3 alert handshake failure')],)\",),))"
     ]
    }
   ],
   "source": [
    "with Session() as session:\n",
    "    post = session.post(login_url, data=login_info)\n",
    "    r = session.get(resp_url)\n",
    "    print(r.text)   #or whatever else you want to do with the request data!"
   ]
  },
  {
   "cell_type": "code",
   "execution_count": null,
   "metadata": {
    "collapsed": true
   },
   "outputs": [],
   "source": [
    "http_session = session()\n",
    "# utils.add_dict_to_cookiejar(http_session.cookies, cookies)\n",
    "response = post(url, data=login_info, allow_redirects=True)"
   ]
  },
  {
   "cell_type": "code",
   "execution_count": 10,
   "metadata": {},
   "outputs": [],
   "source": [
    "with open('aims.html', 'wb') as f:\n",
    "    f.write(response.content)"
   ]
  },
  {
   "cell_type": "markdown",
   "metadata": {},
   "source": [
    "GitHub"
   ]
  },
  {
   "cell_type": "code",
   "execution_count": 15,
   "metadata": {
    "collapsed": true
   },
   "outputs": [],
   "source": [
    "url = 'https://github.com/login'\n",
    "headers = {\n",
    "    'User-Agent': 'Mozilla/5.0 (Windows NT 6.1; Win64; x64) AppleWebKit/537.36 (KHTML, like Gecko) Chrome/66.0.3359.139 Safari/537.36',\n",
    "    # 'From': 'youremail@domain.com'  # This is another valid field\n",
    "}\n",
    "cookies = {\n",
    "    '_ga':'GA1.2.278685574.1524547701',\n",
    "    '_octo':'GH1.1.1041577400.1524547701',\n",
    "    'logged_in':'no',\n",
    "    'tz':'Asia%2FShanghai',\n",
    "    '_gat':'1',\n",
    "    '_gh_sess':'eEROR2M0MFAxUVBFQWNXZEZ1ZjN3Z01DM2JwUDRvbW9MUDBmK3JhRlpuOUx4d1ZNaE9TcmdIVFc3NFNhYjBMZ0JsQVpKMzVBbTNiMnMydS84bXVJaVlJaWRzVWN1VGtqVWRBL1d2SnlWQTVFbXRoQXhpRFdqY3l5WTlsUUYyY2hYenlKanZXa1I0L2FvcVVOUG5TU1dOOEpqcFRqUWUvdEIvVWV5V2dBMkE0V0tGMUlVK3N2V0thekpGbUh4SUxldUdZSXJtTGJYYnErSFdSRklVZ09qUXAxeDFpZFNNcDhLYU85djE4MjY2aE1lR3JmTEVsZ0U4ZUxHbmlEZUNhQ1hRN0pMUjh6bFhGSkhoRmM2TGEzdTBmZVJiNTBZaFZoa0crS2pRS2VnNGVLcWZnak9TMHgvMEU3R0hhSlA5OUFqWXh3Mk9lSFVMNGUxWmx4VFBOQi9HcXNIclZDakxKRWRuZlhJaERvOUlIclM2OURlTXllYzV4NHlQWWNoejcrS3o1Z2N0ZmNLdTJpRnNYWjVaOCtqbm12UWlLM0J5dHFKMTBMNCs4T3pQUzRldGZpQ3lyN3F5N08rM3VmYVJBQURIa2huVGhPL09TOFE5cmFjNnFtVGZuc0lFR1RwQ0x4Y2IzSXBZRFZHVGc9LS1YbldvdCtqcjVlN09NQk1MUnNGTEh3PT0%3D--0e6ebbd2bd0f88aff77ed5295adff2d61944c285',\n",
    "}\n",
    "\n",
    "login_info = {\n",
    "    'login': 'huzhaoxin29@gmail.com',\n",
    "    'password': '19960121huzx'\n",
    "}"
   ]
  },
  {
   "cell_type": "code",
   "execution_count": 18,
   "metadata": {
    "collapsed": true
   },
   "outputs": [],
   "source": [
    "github_session = session()\n",
    "utils.add_dict_to_cookiejar(github_session.cookies, cookies)\n",
    "gitresp = post(url, data=login_info, allow_redirects=True)"
   ]
  },
  {
   "cell_type": "code",
   "execution_count": 19,
   "metadata": {},
   "outputs": [
    {
     "data": {
      "text/plain": [
       "403"
      ]
     },
     "execution_count": 19,
     "metadata": {},
     "output_type": "execute_result"
    }
   ],
   "source": [
    "gitresp.status_code"
   ]
  },
  {
   "cell_type": "code",
   "execution_count": 14,
   "metadata": {
    "collapsed": true
   },
   "outputs": [],
   "source": [
    "with open('github.html', 'wb') as f:\n",
    "    f.write(gitresp.content)"
   ]
  },
  {
   "cell_type": "code",
   "execution_count": null,
   "metadata": {
    "collapsed": true
   },
   "outputs": [],
   "source": [
    "Cookie: _ga=GA1.2.278685574.1524547701; _octo=GH1.1.1041577400.1524547701; logged_in=no; tz=Asia%2FShanghai; _gat=1; _gh_sess=eEROR2M0MFAxUVBFQWNXZEZ1ZjN3Z01DM2JwUDRvbW9MUDBmK3JhRlpuOUx4d1ZNaE9TcmdIVFc3NFNhYjBMZ0JsQVpKMzVBbTNiMnMydS84bXVJaVlJaWRzVWN1VGtqVWRBL1d2SnlWQTVFbXRoQXhpRFdqY3l5WTlsUUYyY2hYenlKanZXa1I0L2FvcVVOUG5TU1dOOEpqcFRqUWUvdEIvVWV5V2dBMkE0V0tGMUlVK3N2V0thekpGbUh4SUxldUdZSXJtTGJYYnErSFdSRklVZ09qUXAxeDFpZFNNcDhLYU85djE4MjY2aE1lR3JmTEVsZ0U4ZUxHbmlEZUNhQ1hRN0pMUjh6bFhGSkhoRmM2TGEzdTBmZVJiNTBZaFZoa0crS2pRS2VnNGVLcWZnak9TMHgvMEU3R0hhSlA5OUFqWXh3Mk9lSFVMNGUxWmx4VFBOQi9HcXNIclZDakxKRWRuZlhJaERvOUlIclM2OURlTXllYzV4NHlQWWNoejcrS3o1Z2N0ZmNLdTJpRnNYWjVaOCtqbm12UWlLM0J5dHFKMTBMNCs4T3pQUzRldGZpQ3lyN3F5N08rM3VmYVJBQURIa2huVGhPL09TOFE5cmFjNnFtVGZuc0lFR1RwQ0x4Y2IzSXBZRFZHVGc9LS1YbldvdCtqcjVlN09NQk1MUnNGTEh3PT0%3D--0e6ebbd2bd0f88aff77ed5295adff2d61944c285"
   ]
  },
  {
   "cell_type": "markdown",
   "metadata": {},
   "source": [
    "Canvas"
   ]
  },
  {
   "cell_type": "code",
   "execution_count": 43,
   "metadata": {
    "collapsed": true
   },
   "outputs": [],
   "source": [
    "with open('canvas.html', 'w') as f:\n",
    "    f.write(response.text)"
   ]
  },
  {
   "cell_type": "code",
   "execution_count": 36,
   "metadata": {},
   "outputs": [
    {
     "name": "stdout",
     "output_type": "stream",
     "text": [
      "None\n"
     ]
    }
   ],
   "source": [
    "soup = BeautifulSoup(response.text, 'lxml')\n",
    "# print(soup)\n",
    "present_courses = soup.find('table', id=\"my_courses-table\")\n",
    "print(present_courses)"
   ]
  },
  {
   "cell_type": "code",
   "execution_count": 18,
   "metadata": {
    "collapsed": true
   },
   "outputs": [],
   "source": [
    "with open('metadata.pdf', 'wb') as f:\n",
    "    f.write(r.content)"
   ]
  },
  {
   "cell_type": "markdown",
   "metadata": {},
   "source": [
    "Douban"
   ]
  },
  {
   "cell_type": "code",
   "execution_count": 23,
   "metadata": {
    "collapsed": true
   },
   "outputs": [],
   "source": [
    "login_url = 'https://www.douban.com/'\n",
    "\n",
    "headers = {\n",
    "    'User-Agent': 'Mozilla/5.0 (Windows NT 6.1; Win64; x64) AppleWebKit/537.36 (KHTML, like Gecko) Chrome/66.0.3359.139 Safari/537.36',\n",
    "    # 'From': 'youremail@domain.com'  # This is another valid field\n",
    "}\n",
    "\"\"\"cookies = {\n",
    "    '_ga':'GA1.3.1904957795.1522373760',\n",
    "    '__utma':'15447972.1904957795.1522373760.1524190413.1524190413.1',\n",
    "    '__utmz':'15447972.1524190413.1.1.utmcsr=(direct)|utmccn=(direct)|utmcmd=(none)',\n",
    "    '__utmc':'268875363',\n",
    "    'ezproxy':'U2quznny25XeGsq',\n",
    "    '_gid':'GA1.3.1088078586.1527045476',\n",
    "    'log_session_id':'58d95da50a176fdd1d50fb18c26121ba',\n",
    "    'canvas_session':'tKQBNwhwLOv9ceZ_TtNc6w+_eilLfLPtwbmQfbzuqSTVKo272438FsVbICFDJfG8Es5Bzk69w-m979cgGb6O8YVWngvT6cPzKNc_wEJpaxKasmNY_TBbwsyOYSx_kzWtxMTPhysFbZRd4YVr93vW2kgL_gr7_Sv2fJX34t-9n9INqWj5m5pHWtySj4FX8M4ktbddX0rNfwK2Ow2-bL-tEIMTDwdX4V5II3mLAvr_Xmb73d3_2irLISgiVOCraoaFVyXH83snqjmx6MkEfnnUfm1nAeaIxONJJ3VlViwfiJUC7lwkWb6t3wyxUijanA3WcK2yKUVo-P1l6SmkidoWjjGOiH99cX1p9Nj1v78hlXq3WHvf4mxaKgySVty0ZdK8vPsR61tK0lGfAmARDq6DG5JCwoLT44zOLACSbmpoWsA_pk3eKpK61vCh8OYk4oW_EwQ9XHHB1140EbGZhBhcT8lUDtvN4EiT1n1Mr9fmfRIOUSDnP9-OpbmNVch-jbHXmfKpeYtUMT9K58xnhJxWxtZfvoqVy9XeitBtYgXqaK_nZWebiKy0OqHRC-ecQBYAJD9e0nE0w11LA-EKXV-YlpUgeurkn5B50bAvQtH6CE5WdrpwfY4V_x1SlOQ8HnqY2NZ1uxYWjbMmRoGZyY2f1UUjxsRxty3zBFPwCuGc7jB5bKnco0dq481Rw2S4t0S59jinyNlC2N6857M_bLWljwxfYq6RhzXUOeJG3y1MRmpMWPlFmLOmI7SoU3Fp-QqQNHFTLZWIhnqF_-c7BagN0nSt0dqRYVNnqorL9M98ADdMIVqq5RWEk669VN5da72HkY.hM7yaKC8R_WXA91gZAwRsdCfAV4.WwUeLQ',\n",
    "    '__utma':'268875363.1904957795.1522373760.1526262880.1527062185.47',\n",
    "    '__utmz':'268875363.1527062185.47.35.utmcsr=idp1.cityu.edu.hk|utmccn=(referral)|utmcmd=referral|utmcct=/idp/profile/SAML2/Redirect/SSO',\n",
    "    '__utmt':'1',\n",
    "    '__utmb':'268875363.2.9.1527062185',\n",
    "    '_gat':'1',\n",
    "    '_csrf_token':'FJzB7zzfIGHSELomLTLWg%2BraULJjmTJIuHhSLdwYwpVT%2FvmBeb4TK4JFjVxFaID3gp5k3VKoCiWKAiRnvVe78A%3D%3D',\n",
    "}\n",
    "\"\"\"\n",
    "login_info = {\n",
    "    'form_email': 'zhaoxinhu2014@hotmail.com',\n",
    "    'form_password': '19960121huzx'\n",
    "}"
   ]
  },
  {
   "cell_type": "code",
   "execution_count": 27,
   "metadata": {
    "scrolled": true
   },
   "outputs": [],
   "source": [
    "douresp = requests.post(login_url, data=login_info, allow_redirects=True)"
   ]
  },
  {
   "cell_type": "code",
   "execution_count": 29,
   "metadata": {},
   "outputs": [
    {
     "name": "stdout",
     "output_type": "stream",
     "text": [
      "200\n"
     ]
    }
   ],
   "source": [
    "print(douresp.status_code)"
   ]
  },
  {
   "cell_type": "code",
   "execution_count": 30,
   "metadata": {
    "collapsed": true
   },
   "outputs": [],
   "source": [
    "with open('douban.html', 'wb') as f:\n",
    "    f.write(douresp.content)"
   ]
  },
  {
   "cell_type": "code",
   "execution_count": null,
   "metadata": {
    "collapsed": true
   },
   "outputs": [],
   "source": [
    "with Session() as session:\n",
    "    post = session.post(login_url, data=login_info)\n",
    "    r = session.get(resp_url)\n",
    "    print(r.text)   #or whatever else you want to do with the request data!"
   ]
  },
  {
   "cell_type": "markdown",
   "metadata": {},
   "source": [
    "知乎"
   ]
  },
  {
   "cell_type": "code",
   "execution_count": 31,
   "metadata": {
    "collapsed": true
   },
   "outputs": [],
   "source": [
    "login_url = 'https://www.zhihu.com/signin'\n",
    "\n",
    "headers = {\n",
    "    'User-Agent': 'Mozilla/5.0 (Windows NT 6.1; Win64; x64) AppleWebKit/537.36 (KHTML, like Gecko) Chrome/66.0.3359.139 Safari/537.36',\n",
    "    # 'From': 'youremail@domain.com'  # This is another valid field\n",
    "}\n",
    "\"\"\"cookies = {\n",
    "    '_ga':'GA1.3.1904957795.1522373760',\n",
    "    '__utma':'15447972.1904957795.1522373760.1524190413.1524190413.1',\n",
    "    '__utmz':'15447972.1524190413.1.1.utmcsr=(direct)|utmccn=(direct)|utmcmd=(none)',\n",
    "    '__utmc':'268875363',\n",
    "    'ezproxy':'U2quznny25XeGsq',\n",
    "    '_gid':'GA1.3.1088078586.1527045476',\n",
    "    'log_session_id':'58d95da50a176fdd1d50fb18c26121ba',\n",
    "    'canvas_session':'tKQBNwhwLOv9ceZ_TtNc6w+_eilLfLPtwbmQfbzuqSTVKo272438FsVbICFDJfG8Es5Bzk69w-m979cgGb6O8YVWngvT6cPzKNc_wEJpaxKasmNY_TBbwsyOYSx_kzWtxMTPhysFbZRd4YVr93vW2kgL_gr7_Sv2fJX34t-9n9INqWj5m5pHWtySj4FX8M4ktbddX0rNfwK2Ow2-bL-tEIMTDwdX4V5II3mLAvr_Xmb73d3_2irLISgiVOCraoaFVyXH83snqjmx6MkEfnnUfm1nAeaIxONJJ3VlViwfiJUC7lwkWb6t3wyxUijanA3WcK2yKUVo-P1l6SmkidoWjjGOiH99cX1p9Nj1v78hlXq3WHvf4mxaKgySVty0ZdK8vPsR61tK0lGfAmARDq6DG5JCwoLT44zOLACSbmpoWsA_pk3eKpK61vCh8OYk4oW_EwQ9XHHB1140EbGZhBhcT8lUDtvN4EiT1n1Mr9fmfRIOUSDnP9-OpbmNVch-jbHXmfKpeYtUMT9K58xnhJxWxtZfvoqVy9XeitBtYgXqaK_nZWebiKy0OqHRC-ecQBYAJD9e0nE0w11LA-EKXV-YlpUgeurkn5B50bAvQtH6CE5WdrpwfY4V_x1SlOQ8HnqY2NZ1uxYWjbMmRoGZyY2f1UUjxsRxty3zBFPwCuGc7jB5bKnco0dq481Rw2S4t0S59jinyNlC2N6857M_bLWljwxfYq6RhzXUOeJG3y1MRmpMWPlFmLOmI7SoU3Fp-QqQNHFTLZWIhnqF_-c7BagN0nSt0dqRYVNnqorL9M98ADdMIVqq5RWEk669VN5da72HkY.hM7yaKC8R_WXA91gZAwRsdCfAV4.WwUeLQ',\n",
    "    '__utma':'268875363.1904957795.1522373760.1526262880.1527062185.47',\n",
    "    '__utmz':'268875363.1527062185.47.35.utmcsr=idp1.cityu.edu.hk|utmccn=(referral)|utmcmd=referral|utmcct=/idp/profile/SAML2/Redirect/SSO',\n",
    "    '__utmt':'1',\n",
    "    '__utmb':'268875363.2.9.1527062185',\n",
    "    '_gat':'1',\n",
    "    '_csrf_token':'FJzB7zzfIGHSELomLTLWg%2BraULJjmTJIuHhSLdwYwpVT%2FvmBeb4TK4JFjVxFaID3gp5k3VKoCiWKAiRnvVe78A%3D%3D',\n",
    "}\n",
    "\"\"\"\n",
    "login_info = {\n",
    "    'username': 'huzhaoxin29@gmail.com',\n",
    "    'password': '19960121huzx'\n",
    "}"
   ]
  },
  {
   "cell_type": "code",
   "execution_count": 32,
   "metadata": {
    "collapsed": true
   },
   "outputs": [],
   "source": [
    "zhiresp = requests.post(login_url, data=login_info, allow_redirects=True)"
   ]
  },
  {
   "cell_type": "code",
   "execution_count": 33,
   "metadata": {},
   "outputs": [
    {
     "name": "stdout",
     "output_type": "stream",
     "text": [
      "400\n"
     ]
    }
   ],
   "source": [
    "print(zhiresp.status_code)"
   ]
  },
  {
   "cell_type": "code",
   "execution_count": 34,
   "metadata": {
    "collapsed": true
   },
   "outputs": [],
   "source": [
    "with open('zhihu.html', 'wb') as f:\n",
    "    f.write(zhiresp.content)"
   ]
  }
 ],
 "metadata": {
  "kernelspec": {
   "display_name": "Python 3",
   "language": "python",
   "name": "python3"
  },
  "language_info": {
   "codemirror_mode": {
    "name": "ipython",
    "version": 3
   },
   "file_extension": ".py",
   "mimetype": "text/x-python",
   "name": "python",
   "nbconvert_exporter": "python",
   "pygments_lexer": "ipython3",
   "version": "3.6.3"
  }
 },
 "nbformat": 4,
 "nbformat_minor": 2
}
